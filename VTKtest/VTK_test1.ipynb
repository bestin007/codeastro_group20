{
 "cells": [
  {
   "cell_type": "code",
   "execution_count": 2,
   "id": "45ab1b0f",
   "metadata": {},
   "outputs": [],
   "source": [
    "import vtk\n",
    "import pyvista as pv\n",
    "import sys\n",
    "import os.path\n",
    "import numpy as np\n",
    "import matplotlib as mpl\n",
    "import matplotlib.pyplot as plt\n",
    "import matplotlib.cm as cm\n",
    "import matplotlib.pyplot as plt\n",
    "import numpy as np\n",
    "from matplotlib.colors import LogNorm\n",
    "from scipy import interpolate\n",
    "from matplotlib import ticker\n",
    "from matplotlib.colors import LogNorm, ListedColormap"
   ]
  },
  {
   "cell_type": "code",
   "execution_count": 28,
   "id": "7eafdcba",
   "metadata": {},
   "outputs": [],
   "source": [
    "mesh = pv.read('/home/joseph/Downloads/VTKtest/NRotSphere001N000.vtk')"
   ]
  },
  {
   "cell_type": "code",
   "execution_count": 42,
   "id": "84cb5fda",
   "metadata": {},
   "outputs": [
    {
     "name": "stdout",
     "output_type": "stream",
     "text": [
      "UniformGrid (0x7f000bc6da60)\n",
      "  N Cells:      59535\n",
      "  N Points:     65536\n",
      "  X Bounds:     2.170e+18, 4.339e+18\n",
      "  Y Bounds:     0.000e+00, 9.112e+18\n",
      "  Z Bounds:     0.000e+00, 9.112e+18\n",
      "  Dimensions:   16, 64, 64\n",
      "  Spacing:      1.446e+17, 1.446e+17, 1.446e+17\n",
      "  N Arrays:     3\n",
      "\n",
      "Point Data:\n",
      "  - Density: (65536,)\n",
      "  - Pressure: (65536,)\n",
      "  - Velocity: (65536, 3)\n",
      "\n",
      "16 64 64\n"
     ]
    }
   ],
   "source": [
    "print(mesh)\n",
    "\n",
    "if mesh.point_data:\n",
    "    print(\"Point Data:\")\n",
    "    for name in mesh.point_data:\n",
    "        print(f\"  - {name}: {mesh.point_data[name].shape}\")\n",
    "        \n",
    "print('')       \n",
    "\n",
    "N1,N2,N3 = mesh.dimensions\n",
    "print(N1,N2,N3)\n",
    "\n"
   ]
  },
  {
   "cell_type": "markdown",
   "id": "54119fff",
   "metadata": {},
   "source": [
    "# Coordinates"
   ]
  },
  {
   "cell_type": "code",
   "execution_count": 35,
   "id": "a9f08dd9",
   "metadata": {},
   "outputs": [],
   "source": [
    "coordinates = mesh.points\n",
    "x=coordinates[:, 0].reshape((N3,N2,N1))\n",
    "y=coordinates[:, 1].reshape((N3,N2,N1))\n",
    "z=coordinates[:, 2].reshape((N3,N2,N1))\n",
    "\n",
    "\n",
    "\n",
    "\n",
    "\n",
    "rho = mesh.point_data['Pressure']\n",
    "val = rho.reshape((N3,N2,N1))"
   ]
  },
  {
   "cell_type": "code",
   "execution_count": 36,
   "id": "d13899d5",
   "metadata": {},
   "outputs": [
    {
     "data": {
      "text/plain": [
       "(64, 64)"
      ]
     },
     "execution_count": 36,
     "metadata": {},
     "output_type": "execute_result"
    }
   ],
   "source": [
    "val[:,:,0].shape"
   ]
  },
  {
   "cell_type": "code",
   "execution_count": 41,
   "id": "458e3cbf",
   "metadata": {},
   "outputs": [
    {
     "data": {
      "image/png": "[encoded data removed]",
      "text/plain": [
       "<Figure size 640x480 with 1 Axes>"
      ]
     },
     "metadata": {},
     "output_type": "display_data"
    }
   ],
   "source": [
    "c = plt.pcolormesh(x[:,0,:], y[:,0,:], val[:,0,:],  shading='gouraud', cmap = cm.jet)\n"
   ]
  }
 ],
 "metadata": {
  "kernelspec": {
   "display_name": "Python 3 (ipykernel)",
   "language": "python",
   "name": "python3"
  },
  "language_info": {
   "codemirror_mode": {
    "name": "ipython",
    "version": 3
   },
   "file_extension": ".py",
   "mimetype": "text/x-python",
   "name": "python",
   "nbconvert_exporter": "python",
   "pygments_lexer": "ipython3",
   "version": "3.7.12"
  }
 },
 "nbformat": 4,
 "nbformat_minor": 5
}
